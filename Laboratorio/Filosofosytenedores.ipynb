{
 "cells": [
  {
   "cell_type": "markdown",
   "metadata": {
    "colab_type": "text",
    "id": "EHQreOpzvWqG"
   },
   "source": [
    "# Problema 1.\n",
    "Filósofos y tenedores"
   ]
  },
  {
   "cell_type": "code",
   "execution_count": 18,
   "metadata": {
    "colab": {},
    "colab_type": "code",
    "id": "6Qnyv_-jvTOb"
   },
   "outputs": [],
   "source": [
    "#Importamos las librerias.\n",
    "import numpy as np\n",
    "import multiprocessing as mp\n",
    "import random as rd"
   ]
  },
  {
   "cell_type": "code",
   "execution_count": 19,
   "metadata": {
    "colab": {
     "base_uri": "https://localhost:8080/",
     "height": 1000
    },
    "colab_type": "code",
    "executionInfo": {
     "elapsed": 4126,
     "status": "error",
     "timestamp": 1569524721475,
     "user": {
      "displayName": "Jonathan Martiñon",
      "photoUrl": "https://lh3.googleusercontent.com/a-/AAuE7mA1xBTpMEjvzXk4QW_h9bC_KloFY1Y0Zv7mC7KPUQ=s64",
      "userId": "03334179596914698342"
     },
     "user_tz": 300
    },
    "id": "capBufp2raQr",
    "outputId": "8fa9bb7b-50b7-452d-a4e6-b2b4282ae6b0",
    "scrolled": true
   },
   "outputs": [
    {
     "ename": "SyntaxError",
     "evalue": "invalid syntax (<ipython-input-19-7da781887862>, line 26)",
     "output_type": "error",
     "traceback": [
      "\u001b[0;36m  File \u001b[0;32m\"<ipython-input-19-7da781887862>\"\u001b[0;36m, line \u001b[0;32m26\u001b[0m\n\u001b[0;31m    while Tiempos[i] > 0 for i in range(0,5)\u001b[0m\n\u001b[0m                           ^\u001b[0m\n\u001b[0;31mSyntaxError\u001b[0m\u001b[0;31m:\u001b[0m invalid syntax\n"
     ]
    }
   ],
   "source": [
    "## Main\n",
    "def comer (time, id1, id2,tiempo):\n",
    "    if(time[id1] > 0 or time[id2] > 0):\n",
    "        time[id1] -= tiempo\n",
    "        time[id2] -= tiempo\n",
    "        print(\"filosofo \",id1,\"Le sobran:\",time[id1],\n",
    "        \"filosofo \",id2,\"Le sobran:\",time[id2])\n",
    "    else:\n",
    "        print(\"NO SE CUMPLE\")\n",
    "        print(\"los valores son: \",time[id1],\" y \",time[id2],\" para filosofo\",id1,\" y filosofo\", id2)\n",
    "\n",
    "Proc_1 =  rd.randint(0,4)#Proceso a ejecutar inicial, será aleatorio\n",
    "Max_time = rd.randint(10,20) #Máximo de tiempo que se tardarán los filósofos en terminar de comer\n",
    "\n",
    "\n",
    "\n",
    "\n",
    "Tiempos = mp.Array('i',[Max_time,Max_time,Max_time,Max_time,Max_time]) #Creación de un arreglo compartido que almacenará los datos de tiempo total de cada 'comida'\n",
    "\n",
    "\n",
    "#Aquí podemos observar el tiempo que terminará cada comensal su comida\n",
    "for i in range(0,5):\n",
    "    print(\"filosofo\",i+1,\"= \",Tiempos[i])\n",
    "\n",
    "while Tiempos [0] > 0 or Tiempos [1] > 0 or Tiempos [2] > 0 or Tiempos [3] > 0 or Tiempos [4] > 0:\n",
    "#while Tiempos[i] > 0 for i in range(0,5)\n",
    "  \n",
    "  \n",
    "  # Nos aseguramos de crear los turnos 1 y 2\n",
    "  # Asegurandonos de que no sean adyacentes\n",
    "  \n",
    "    Proc_1 += 1\n",
    "  \n",
    "  \n",
    "  \n",
    "    if (Proc_1 < 4):\n",
    "\n",
    "        if Proc_1 == 3:\n",
    "\n",
    "            Proc_2 = 0\n",
    "\n",
    "        else:\n",
    "            Proc_2 = Proc_1 + 2\n",
    "    else:\n",
    "    \n",
    "        if Proc_1 >= 5:\n",
    "\n",
    "            Proc_1 = 0\n",
    "            Proc_2 = 2\n",
    "\n",
    "        else:\n",
    "            \n",
    "            Proc_2 = 1\n",
    "\n",
    "\n",
    "      # Creamos el tiempo que van a tardar los filosofos actuales en comer su turno\n",
    "    eat_time = rd.randint(1,8)\n",
    "\n",
    "    Proceso1 = mp.Process(target= comer, args = (Tiempos,Proc_1,Proc_2,eat_time))\n",
    "\n",
    "    Proceso2 = mp.Process(target= comer, args = (Tiempos,Proc_1,Proc_2,eat_time))\n",
    "\n",
    "    Proceso1.start()\n",
    "    Proceso1.join()\n",
    "\n",
    "    Proceso2.start()\n",
    "    Proceso2.join()"
   ]
  },
  {
   "cell_type": "code",
   "execution_count": 0,
   "metadata": {
    "colab": {},
    "colab_type": "code",
    "id": "pv5dT9hYoX2e"
   },
   "outputs": [],
   "source": [
    "\n"
   ]
  },
  {
   "cell_type": "code",
   "execution_count": 0,
   "metadata": {
    "colab": {},
    "colab_type": "code",
    "id": "L4_DvR7Ao1dI"
   },
   "outputs": [],
   "source": []
  },
  {
   "cell_type": "code",
   "execution_count": 0,
   "metadata": {
    "colab": {},
    "colab_type": "code",
    "id": "TBHxgXeQpPFI"
   },
   "outputs": [],
   "source": []
  }
 ],
 "metadata": {
  "colab": {
   "collapsed_sections": [],
   "name": "Filosofos.ipynb",
   "provenance": []
  },
  "kernelspec": {
   "display_name": "Python 3",
   "language": "python",
   "name": "python3"
  },
  "language_info": {
   "codemirror_mode": {
    "name": "ipython",
    "version": 3
   },
   "file_extension": ".py",
   "mimetype": "text/x-python",
   "name": "python",
   "nbconvert_exporter": "python",
   "pygments_lexer": "ipython3",
   "version": "3.7.3"
  }
 },
 "nbformat": 4,
 "nbformat_minor": 1
}
