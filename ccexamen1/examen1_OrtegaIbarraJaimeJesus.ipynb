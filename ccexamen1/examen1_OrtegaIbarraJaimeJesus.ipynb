{
 "cells": [
  {
   "cell_type": "markdown",
   "metadata": {},
   "source": [
    "# Examen Primer Parcial.\n",
    "Ortega Ibarra Jaime Jesus."
   ]
  },
  {
   "cell_type": "markdown",
   "metadata": {},
   "source": [
    "## Programa 1."
   ]
  },
  {
   "cell_type": "markdown",
   "metadata": {},
   "source": [
    "1. Realizar el programa1 que instancie tres procesos. Cada uno de los procesos hijos recibirá un valor \"n\" y un caracter \"s\" enviados por el proceso padre, los procesos escribirán en la salida estándar \"n\" veces el caracter \"s\""
   ]
  },
  {
   "cell_type": "code",
   "execution_count": 114,
   "metadata": {},
   "outputs": [],
   "source": [
    "import multiprocessing as mp\n",
    "import os\n",
    "import time"
   ]
  },
  {
   "cell_type": "code",
   "execution_count": 98,
   "metadata": {
    "scrolled": true
   },
   "outputs": [
    {
     "name": "stdout",
     "output_type": "stream",
     "text": [
      "Hijo1\n",
      "Hijo1\n",
      "Hijo2\n",
      "Hijo1\n",
      "Hijo1\n",
      "Hijo1\n",
      "Hijo2\n",
      "Hijo3\n",
      "Hijo2\n",
      "Hijo2\n",
      "Hijo2\n",
      "Hijo3\n",
      "Hijo3\n",
      "Hijo3\n",
      "Hijo3\n"
     ]
    }
   ],
   "source": [
    "def Hijo1(n, s):\n",
    "    for i in range (n):\n",
    "        print(s)\n",
    "    #print(\"Hijo1 PID: {}\".format(mp.current_process().pid), \"\\n Proceso padre: \", os.getppid())\n",
    "def Hijo2(n, s):\n",
    "    for i in range (n):\n",
    "        print(s)\n",
    "    #print(\"Hijo2 PID: {}\".format(mp.current_process().pid), \"\\n Proceso padre: \", os.getppid())\n",
    "def Hijo3(n, s):\n",
    "    for i in range (n):\n",
    "        print(s)\n",
    "    #print(\"Hijo3 PID: {}\".format(mp.current_process().pid), \"\\n Proceso padre: \", os.getppid())\n",
    "p1 = mp.Process(target=Hijo1,args=(5, 'Hijo1'))\n",
    "p2 = mp.Process(target=Hijo2,args=(5, 'Hijo2'))\n",
    "p3 = mp.Process(target=Hijo3,args=(5, 'Hijo3'))\n",
    "p1.start()\n",
    "p2.start()\n",
    "p3.start()\n",
    "p1.join()\n",
    "p2.join()\n",
    "p3.join()"
   ]
  },
  {
   "cell_type": "markdown",
   "metadata": {},
   "source": [
    "## Programa 2."
   ]
  },
  {
   "cell_type": "markdown",
   "metadata": {},
   "source": [
    "2. Refactoriza (reescribe) el programa anterior y elabora el programa2 donde construyas un mecanismo de sincronización el cual permita escribir en orden todos los caracteres de cada proceso. Es decir que se obtenga la secuencia $S_{1}...S_{1},S_{2}...S_{2},S_{3}...S_{3}$ donde cada $S_{i}...S_{i}$ para cada $i$ = 1,2,3 es la secuencia del proceso $_{i}$ con longitud $n_{i}$."
   ]
  },
  {
   "cell_type": "code",
   "execution_count": 130,
   "metadata": {},
   "outputs": [
    {
     "name": "stdout",
     "output_type": "stream",
     "text": [
      "['Hijo1', 'Hijo1', 'Hijo1', 'Hijo1', 'Hijo1']\n",
      "['Hijo2', 'Hijo2', 'Hijo2', 'Hijo2', 'Hijo2']\n",
      "['Hijo3', 'Hijo3', 'Hijo3', 'Hijo3', 'Hijo3']\n"
     ]
    }
   ],
   "source": [
    "def Hijo1(n, s):\n",
    "    s_c = []\n",
    "    for i in range (n):\n",
    "        s_c.append(s)\n",
    "    print(s_c)   \n",
    "    time.sleep(.2)\n",
    "def Hijo2(n, s):\n",
    "    s_c = []\n",
    "    for i in range (n):\n",
    "        s_c.append(s)\n",
    "    print(s_c)   \n",
    "    time.sleep(.2)\n",
    "def Hijo3(n, s):\n",
    "    s_c = []\n",
    "    for i in range (n):\n",
    "        s_c.append(s)\n",
    "    print(s_c)   \n",
    "    time.sleep(.2)\n",
    "\n",
    "p1 = mp.Process(target=Hijo1,args=(5, 'Hijo1'))\n",
    "p2 = mp.Process(target=Hijo2,args=(5, 'Hijo2'))\n",
    "p3 = mp.Process(target=Hijo3,args=(5, 'Hijo3'))\n",
    "p1.start()\n",
    "p1.join()\n",
    "p2.start()\n",
    "p2.join()\n",
    "p3.start()\n",
    "p3.join()"
   ]
  },
  {
   "cell_type": "code",
   "execution_count": null,
   "metadata": {},
   "outputs": [],
   "source": []
  }
 ],
 "metadata": {
  "kernelspec": {
   "display_name": "Python 3",
   "language": "python",
   "name": "python3"
  },
  "language_info": {
   "codemirror_mode": {
    "name": "ipython",
    "version": 3
   },
   "file_extension": ".py",
   "mimetype": "text/x-python",
   "name": "python",
   "nbconvert_exporter": "python",
   "pygments_lexer": "ipython3",
   "version": "3.7.3"
  }
 },
 "nbformat": 4,
 "nbformat_minor": 2
}
